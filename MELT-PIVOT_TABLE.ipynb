{
 "cells": [
  {
   "cell_type": "markdown",
   "id": "7c929cb2",
   "metadata": {},
   "source": [
    "# https://www.youtube.com/watch?v=iYie42M1ZyU"
   ]
  },
  {
   "cell_type": "code",
   "execution_count": null,
   "id": "bb3c6fb6",
   "metadata": {},
   "outputs": [],
   "source": [
    "import pandas as pd"
   ]
  },
  {
   "cell_type": "code",
   "execution_count": 45,
   "id": "d2f9950c",
   "metadata": {},
   "outputs": [],
   "source": [
    "df  = pd.read_csv('Cleaning_and_Tidying_Data_Daniel_Chen/gapminder.tsv', sep='\\t')\n",
    "df1 = pd.read_csv('Cleaning_and_Tidying_Data_Daniel_Chen/pew.csv')\n",
    "df2 = pd.read_csv('Cleaning_and_Tidying_Data_Daniel_Chen/billboard.csv')\n",
    "df3 = pd.read_csv('Cleaning_and_Tidying_Data_Daniel_Chen/country_timeseries.csv')\n",
    "df4 = pd.read_csv('Cleaning_and_Tidying_Data_Daniel_Chen/weather.csv')"
   ]
  },
  {
   "cell_type": "markdown",
   "id": "c5eecd4a",
   "metadata": {},
   "source": [
    "## MELT =Long to Short "
   ]
  },
  {
   "cell_type": "code",
   "execution_count": 59,
   "id": "b2ef5f82",
   "metadata": {},
   "outputs": [],
   "source": [
    "songs=pd.melt(df2,id_vars=['year', 'artist', 'track', 'time', 'date.entered'],var_name='week',value_name='rating')"
   ]
  },
  {
   "cell_type": "code",
   "execution_count": 51,
   "id": "6783fe1b",
   "metadata": {},
   "outputs": [],
   "source": [
    "melted = pd.melt(df4,id_vars=['id','year','month', 'element'], var_name='days',value_name='temp')\n",
    "##melted = df4.melt(id_vars=['id','year','month', 'element'], var_name='days',value_name='temp')"
   ]
  },
  {
   "cell_type": "markdown",
   "id": "5184063b",
   "metadata": {},
   "source": [
    "## PIVOT : Short to Long"
   ]
  },
  {
   "cell_type": "code",
   "execution_count": 55,
   "id": "0f6dbf4f",
   "metadata": {},
   "outputs": [],
   "source": [
    "pivoted = melted.pivot_table(index=['id','year','month','element','days'],columns='element',values='temp').reset_index()"
   ]
  },
  {
   "cell_type": "code",
   "execution_count": 56,
   "id": "be649d73",
   "metadata": {},
   "outputs": [
    {
     "data": {
      "text/html": [
       "<div>\n",
       "<style scoped>\n",
       "    .dataframe tbody tr th:only-of-type {\n",
       "        vertical-align: middle;\n",
       "    }\n",
       "\n",
       "    .dataframe tbody tr th {\n",
       "        vertical-align: top;\n",
       "    }\n",
       "\n",
       "    .dataframe thead th {\n",
       "        text-align: right;\n",
       "    }\n",
       "</style>\n",
       "<table border=\"1\" class=\"dataframe\">\n",
       "  <thead>\n",
       "    <tr style=\"text-align: right;\">\n",
       "      <th>element</th>\n",
       "      <th>id</th>\n",
       "      <th>year</th>\n",
       "      <th>month</th>\n",
       "      <th>element</th>\n",
       "      <th>days</th>\n",
       "      <th>tmax</th>\n",
       "      <th>tmin</th>\n",
       "    </tr>\n",
       "  </thead>\n",
       "  <tbody>\n",
       "    <tr>\n",
       "      <th>0</th>\n",
       "      <td>MX17004</td>\n",
       "      <td>2010</td>\n",
       "      <td>1</td>\n",
       "      <td>tmax</td>\n",
       "      <td>d30</td>\n",
       "      <td>27.8</td>\n",
       "      <td>NaN</td>\n",
       "    </tr>\n",
       "    <tr>\n",
       "      <th>1</th>\n",
       "      <td>MX17004</td>\n",
       "      <td>2010</td>\n",
       "      <td>1</td>\n",
       "      <td>tmin</td>\n",
       "      <td>d30</td>\n",
       "      <td>NaN</td>\n",
       "      <td>14.5</td>\n",
       "    </tr>\n",
       "    <tr>\n",
       "      <th>2</th>\n",
       "      <td>MX17004</td>\n",
       "      <td>2010</td>\n",
       "      <td>2</td>\n",
       "      <td>tmax</td>\n",
       "      <td>d11</td>\n",
       "      <td>29.7</td>\n",
       "      <td>NaN</td>\n",
       "    </tr>\n",
       "    <tr>\n",
       "      <th>3</th>\n",
       "      <td>MX17004</td>\n",
       "      <td>2010</td>\n",
       "      <td>2</td>\n",
       "      <td>tmax</td>\n",
       "      <td>d2</td>\n",
       "      <td>27.3</td>\n",
       "      <td>NaN</td>\n",
       "    </tr>\n",
       "    <tr>\n",
       "      <th>4</th>\n",
       "      <td>MX17004</td>\n",
       "      <td>2010</td>\n",
       "      <td>2</td>\n",
       "      <td>tmax</td>\n",
       "      <td>d23</td>\n",
       "      <td>29.9</td>\n",
       "      <td>NaN</td>\n",
       "    </tr>\n",
       "    <tr>\n",
       "      <th>...</th>\n",
       "      <td>...</td>\n",
       "      <td>...</td>\n",
       "      <td>...</td>\n",
       "      <td>...</td>\n",
       "      <td>...</td>\n",
       "      <td>...</td>\n",
       "      <td>...</td>\n",
       "    </tr>\n",
       "    <tr>\n",
       "      <th>61</th>\n",
       "      <td>MX17004</td>\n",
       "      <td>2010</td>\n",
       "      <td>11</td>\n",
       "      <td>tmin</td>\n",
       "      <td>d4</td>\n",
       "      <td>NaN</td>\n",
       "      <td>12.0</td>\n",
       "    </tr>\n",
       "    <tr>\n",
       "      <th>62</th>\n",
       "      <td>MX17004</td>\n",
       "      <td>2010</td>\n",
       "      <td>12</td>\n",
       "      <td>tmax</td>\n",
       "      <td>d1</td>\n",
       "      <td>29.9</td>\n",
       "      <td>NaN</td>\n",
       "    </tr>\n",
       "    <tr>\n",
       "      <th>63</th>\n",
       "      <td>MX17004</td>\n",
       "      <td>2010</td>\n",
       "      <td>12</td>\n",
       "      <td>tmax</td>\n",
       "      <td>d6</td>\n",
       "      <td>27.8</td>\n",
       "      <td>NaN</td>\n",
       "    </tr>\n",
       "    <tr>\n",
       "      <th>64</th>\n",
       "      <td>MX17004</td>\n",
       "      <td>2010</td>\n",
       "      <td>12</td>\n",
       "      <td>tmin</td>\n",
       "      <td>d1</td>\n",
       "      <td>NaN</td>\n",
       "      <td>13.8</td>\n",
       "    </tr>\n",
       "    <tr>\n",
       "      <th>65</th>\n",
       "      <td>MX17004</td>\n",
       "      <td>2010</td>\n",
       "      <td>12</td>\n",
       "      <td>tmin</td>\n",
       "      <td>d6</td>\n",
       "      <td>NaN</td>\n",
       "      <td>10.5</td>\n",
       "    </tr>\n",
       "  </tbody>\n",
       "</table>\n",
       "<p>66 rows × 7 columns</p>\n",
       "</div>"
      ],
      "text/plain": [
       "element       id  year  month element days  tmax  tmin\n",
       "0        MX17004  2010      1    tmax  d30  27.8   NaN\n",
       "1        MX17004  2010      1    tmin  d30   NaN  14.5\n",
       "2        MX17004  2010      2    tmax  d11  29.7   NaN\n",
       "3        MX17004  2010      2    tmax   d2  27.3   NaN\n",
       "4        MX17004  2010      2    tmax  d23  29.9   NaN\n",
       "..           ...   ...    ...     ...  ...   ...   ...\n",
       "61       MX17004  2010     11    tmin   d4   NaN  12.0\n",
       "62       MX17004  2010     12    tmax   d1  29.9   NaN\n",
       "63       MX17004  2010     12    tmax   d6  27.8   NaN\n",
       "64       MX17004  2010     12    tmin   d1   NaN  13.8\n",
       "65       MX17004  2010     12    tmin   d6   NaN  10.5\n",
       "\n",
       "[66 rows x 7 columns]"
      ]
     },
     "execution_count": 56,
     "metadata": {},
     "output_type": "execute_result"
    }
   ],
   "source": [
    "pivoted"
   ]
  },
  {
   "cell_type": "markdown",
   "id": "d84e50d2",
   "metadata": {},
   "source": [
    "## Create a daset from songs dataset that has only columns 'year','artist','track','time' but duplicates must be removed to save space."
   ]
  },
  {
   "cell_type": "code",
   "execution_count": 62,
   "id": "f3195912",
   "metadata": {},
   "outputs": [],
   "source": [
    "songs1=songs[['year','artist','track','time']].drop_duplicates()"
   ]
  },
  {
   "cell_type": "markdown",
   "id": "2ff202e4",
   "metadata": {},
   "source": [
    "## Creating a id for the dataset and saving"
   ]
  },
  {
   "cell_type": "code",
   "execution_count": 69,
   "id": "3baa4eb1",
   "metadata": {},
   "outputs": [],
   "source": [
    "songs1['id'] = range(len(songs1))"
   ]
  },
  {
   "cell_type": "code",
   "execution_count": 71,
   "id": "961a4617",
   "metadata": {},
   "outputs": [],
   "source": [
    "songs1.to_csv('songs1.csv',index=False)"
   ]
  },
  {
   "cell_type": "code",
   "execution_count": null,
   "id": "4c786043",
   "metadata": {},
   "outputs": [],
   "source": []
  },
  {
   "cell_type": "code",
   "execution_count": null,
   "id": "ca40cf3e",
   "metadata": {},
   "outputs": [],
   "source": []
  }
 ],
 "metadata": {
  "kernelspec": {
   "display_name": "Python 3 (ipykernel)",
   "language": "python",
   "name": "python3"
  },
  "language_info": {
   "codemirror_mode": {
    "name": "ipython",
    "version": 3
   },
   "file_extension": ".py",
   "mimetype": "text/x-python",
   "name": "python",
   "nbconvert_exporter": "python",
   "pygments_lexer": "ipython3",
   "version": "3.9.6"
  }
 },
 "nbformat": 4,
 "nbformat_minor": 5
}
